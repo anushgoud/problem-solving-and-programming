{
 "cells": [
  {
   "cell_type": "markdown",
   "metadata": {},
   "source": [
    "# Function of the list\n",
    "lst1\n",
    "print(min(lst1))\n",
    "print(max(lst1)) Day objectives\n",
    "Python data structures\n",
    "Lists\n",
    "Tuples\n",
    "Dictionaries\n",
    "Basic Program sets on data structures\n",
    "advanced problem set\n",
    "contact application(dictionary object)\n",
    "Data structures\n",
    "To store ,search and Sort the data\n",
    "pyhton data structures\n",
    "lists\n",
    "It is one of the common data structures supports by python,the list items are separated by comma operator and enclosed in square brackets\n",
    "example:\n",
    "list1 = [1,6,2,18,9]\n",
    "list2 = [\"gitam\",12,12,15.5,\"hyderabad\"]\n",
    "print(sum(lst1))\n",
    "print(sum(lst1)//len(lst1))\n",
    "print(sum(lst1[1::2])/len(lst1[1::2]))"
   ]
  },
  {
   "cell_type": "code",
   "execution_count": 3,
   "metadata": {},
   "outputs": [
    {
     "name": "stdout",
     "output_type": "stream",
     "text": [
      "[1, 8, 16, 9, 2]\n",
      "1\n",
      "8\n",
      "2\n",
      "9\n",
      "16\n",
      "[8, 16, 9, 2]\n"
     ]
    }
   ],
   "source": [
    "lst = [1,8,16,9,2]\n",
    "print(lst)\n",
    "print(lst[0])\n",
    "print(lst[1])\n",
    "print(lst[-1])\n",
    "print(lst[-2])\n",
    "print(lst[2])\n",
    "print(lst[1:])\n"
   ]
  },
  {
   "cell_type": "code",
   "execution_count": 4,
   "metadata": {},
   "outputs": [
    {
     "name": "stdout",
     "output_type": "stream",
     "text": [
      "['Gitam', 'Python', 1989, 2002]\n",
      "['Gitam', 'Python', 2019, 2002]\n"
     ]
    }
   ],
   "source": [
    " # Update the list item values using index(Direct referencing)\n",
    "li = [\"Gitam\",\"Python\",1989,2002]\n",
    "print(li)\n",
    "li[2] = 2019\n",
    "print(li)"
   ]
  },
  {
   "cell_type": "code",
   "execution_count": 5,
   "metadata": {},
   "outputs": [
    {
     "name": "stdout",
     "output_type": "stream",
     "text": [
      "5\n",
      "[1, 9, 6, 18, 2, 1, 9, 6, 18, 2]\n",
      "5\n",
      "True\n",
      "False\n"
     ]
    }
   ],
   "source": [
    "# basic list opertaions\n",
    "lst1 = [1,9,6,18,2]\n",
    "print(len(lst1))\n",
    "print(lst1*2)\n",
    "print(len(lst1))\n",
    "print(9 in lst1)\n",
    "print(15 in lst1)"
   ]
  },
  {
   "cell_type": "code",
   "execution_count": 6,
   "metadata": {},
   "outputs": [
    {
     "name": "stdout",
     "output_type": "stream",
     "text": [
      "5\n",
      "[1, 9, 6, 18, 2, 1, 9, 6, 18, 2]\n",
      "5\n",
      "True\n",
      "False\n",
      "1 9 6 18 2 "
     ]
    }
   ],
   "source": [
    "# basic list opertaions\n",
    "lst1 = [1,9,6,18,2]\n",
    "print(len(lst1))\n",
    "print(lst1*2)\n",
    "print(len(lst1))\n",
    "print(9 in lst1)\n",
    "print(15 in lst1)\n",
    "for x in range(len(lst1)):\n",
    "     print(lst1[x],end=' ')"
   ]
  },
  {
   "cell_type": "code",
   "execution_count": 8,
   "metadata": {},
   "outputs": [
    {
     "name": "stdout",
     "output_type": "stream",
     "text": [
      "1\n",
      "18\n",
      "36\n",
      "7\n",
      "13.5\n"
     ]
    }
   ],
   "source": [
    "# Function of the list\n",
    "lst1\n",
    "print(min(lst1))\n",
    "print(max(lst1))\n",
    "print(sum(lst1))\n",
    "print(sum(lst1)//len(lst1))\n",
    "print(sum(lst1[1::2])/len(lst1[1::2]))"
   ]
  },
  {
   "cell_type": "code",
   "execution_count": 26,
   "metadata": {
    "scrolled": true
   },
   "outputs": [
    {
     "ename": "IndexError",
     "evalue": "pop from empty list",
     "output_type": "error",
     "traceback": [
      "\u001b[1;31m---------------------------------------------------------------------------\u001b[0m",
      "\u001b[1;31mIndexError\u001b[0m                                Traceback (most recent call last)",
      "\u001b[1;32m<ipython-input-26-5d06068734e9>\u001b[0m in \u001b[0;36m<module>\u001b[1;34m\u001b[0m\n\u001b[0;32m      8\u001b[0m \u001b[0mlst1\u001b[0m\u001b[1;33m.\u001b[0m\u001b[0msort\u001b[0m\u001b[1;33m(\u001b[0m\u001b[1;33m)\u001b[0m\u001b[1;33m\u001b[0m\u001b[1;33m\u001b[0m\u001b[0m\n\u001b[0;32m      9\u001b[0m \u001b[0mlst1\u001b[0m\u001b[1;33m\u001b[0m\u001b[1;33m\u001b[0m\u001b[0m\n\u001b[1;32m---> 10\u001b[1;33m \u001b[0mlst\u001b[0m\u001b[1;33m.\u001b[0m\u001b[0mpop\u001b[0m\u001b[1;33m(\u001b[0m\u001b[1;33m)\u001b[0m\u001b[1;33m\u001b[0m\u001b[1;33m\u001b[0m\u001b[0m\n\u001b[0m\u001b[0;32m     11\u001b[0m \u001b[0mlst1\u001b[0m\u001b[1;33m\u001b[0m\u001b[1;33m\u001b[0m\u001b[0m\n\u001b[0;32m     12\u001b[0m \u001b[0mlst1\u001b[0m\u001b[1;33m.\u001b[0m\u001b[0mpop\u001b[0m\u001b[1;33m(\u001b[0m\u001b[1;36m1\u001b[0m\u001b[1;33m)\u001b[0m\u001b[1;33m\u001b[0m\u001b[1;33m\u001b[0m\u001b[0m\n",
      "\u001b[1;31mIndexError\u001b[0m: pop from empty list"
     ]
    }
   ],
   "source": [
    "lst1\n",
    "lst1.append(24)\n",
    "lst1\n",
    "lst1.insert(2,56)\n",
    "lst1\n",
    "lst1.count(18)\n",
    "lst1.index(56)\n",
    "lst1.sort()\n",
    "lst1\n",
    "lst.pop()\n",
    "lst1\n",
    "lst1.pop(1)\n",
    "lst2 = [123,23,45]\n",
    "lst1.extend(lst2)\n",
    "lst1"
   ]
  },
  {
   "cell_type": "code",
   "execution_count": 27,
   "metadata": {},
   "outputs": [
    {
     "name": "stdout",
     "output_type": "stream",
     "text": [
      "[3, 2, 9]\n"
     ]
    }
   ],
   "source": [
    "li = [1,9,8,2,6,3]\n",
    "print(li[-1::-2])"
   ]
  },
  {
   "cell_type": "code",
   "execution_count": 28,
   "metadata": {},
   "outputs": [
    {
     "name": "stdout",
     "output_type": "stream",
     "text": [
      "[3, 2]\n"
     ]
    }
   ],
   "source": [
    "li = [1,9,8,2,6,3]\n",
    "print(li[-1:2:-2])"
   ]
  },
  {
   "cell_type": "code",
   "execution_count": 29,
   "metadata": {},
   "outputs": [
    {
     "name": "stdout",
     "output_type": "stream",
     "text": [
      "[3, 2, 9]\n"
     ]
    }
   ],
   "source": [
    "li = [1,9,8,2,6,3]\n",
    "print(li[-1:0:-2])"
   ]
  },
  {
   "cell_type": "code",
   "execution_count": 30,
   "metadata": {},
   "outputs": [
    {
     "name": "stdout",
     "output_type": "stream",
     "text": [
      "[3, 2]\n"
     ]
    }
   ],
   "source": [
    "li = [1,9,8,2,6,3]\n",
    "print(li[-1:2:-2])"
   ]
  },
  {
   "cell_type": "code",
   "execution_count": 7,
   "metadata": {},
   "outputs": [
    {
     "data": {
      "text/plain": [
       "6"
      ]
     },
     "execution_count": 7,
     "metadata": {},
     "output_type": "execute_result"
    }
   ],
   "source": [
    "# Function to find the second large item from the list\n",
    "# input :   [1,19,6,2,8,18,3]\n",
    "# output :  18\n",
    "def secondlarge(li):\n",
    "    li.sort()\n",
    "    return li[-2]\n",
    "def genericlarge(li,n):\n",
    "    li.sort()\n",
    "    return li[-n]\n",
    "li= [1,19,6,2,8,18,3]\n",
    "genericlarge(li,4)"
   ]
  },
  {
   "cell_type": "markdown",
   "metadata": {},
   "source": [
    "# Linear search\n",
    "Linear search algorithm can be applied on duplicate and unique list\n",
    "Unique list : All items of the list are appeared as only one\n",
    "Duplicate list : The items of the list can be appeared more than one\n",
    "Linear search algorithm can be applied on sorted list or unsorted list                                                                  "
   ]
  },
  {
   "cell_type": "code",
   "execution_count": 8,
   "metadata": {},
   "outputs": [
    {
     "data": {
      "text/plain": [
       "-1"
      ]
     },
     "execution_count": 8,
     "metadata": {},
     "output_type": "execute_result"
    }
   ],
   "source": [
    "# Function to search the data in a list\n",
    "# Search is found then return the index if not return -1\n",
    "def linearsearch1(li,taritem):\n",
    "    for x in range(len(li)):\n",
    "        if li[x] == taritem:\n",
    "            return x\n",
    "        return -1\n",
    "li = [1,19,6,2,8,18,3]\n",
    "linearsearch1(li,225)"
   ]
  },
  {
   "cell_type": "code",
   "execution_count": 9,
   "metadata": {},
   "outputs": [
    {
     "name": "stdout",
     "output_type": "stream",
     "text": [
      "1 4 8 "
     ]
    }
   ],
   "source": [
    "# Function\n",
    "# Input : [1,5,9,6,5,15,1,2,5],key=5 # Duplicate\n",
    "# Output : 1 4 8\n",
    "def linearsearch2(li,taritem):\n",
    "    for x in range(len(li)):\n",
    "        if li[x] == taritem:\n",
    "            print(x,end=\" \")\n",
    "    return \n",
    "\n",
    "li = [1,5,9,6,5,15,1,2,5]\n",
    "linearsearch2(li,5) "
   ]
  },
  {
   "cell_type": "code",
   "execution_count": 49,
   "metadata": {},
   "outputs": [
    {
     "name": "stdout",
     "output_type": "stream",
     "text": [
      "! !  ! ! ! ! !  ! ! ! ! ! ! ! ! !  "
     ]
    }
   ],
   "source": [
    "# Function\n",
    "# i/p : list\n",
    "#o/p : seq of characters\n",
    "# Test case\n",
    "# [1,5,9,6,5,15,1,2,5],tar=5 --!! !!!!! !!!!!!!!!\n",
    "\n",
    "def linearSearch3(li,tarItem):\n",
    "   # Implement the logic\n",
    "   for x in range(len(li)):\n",
    "       if li[x] == tarItem:\n",
    "           j=0\n",
    "           while j!=x+1:\n",
    "               print(\"!\",end=\" \")\n",
    "               j=j+1\n",
    "           print(end=\" \")\n",
    "   return\n",
    "li = [1,5,9,6,5,15,1,2,5]\n",
    "linearSearch3(li,5)"
   ]
  },
  {
   "cell_type": "code",
   "execution_count": 38,
   "metadata": {},
   "outputs": [
    {
     "data": {
      "text/plain": [
       "60"
      ]
     },
     "execution_count": 38,
     "metadata": {},
     "output_type": "execute_result"
    }
   ],
   "source": [
    "# Function\n",
    "# i/p: List\n",
    "# o/p: Formatted\n",
    "# Test case:\n",
    "# [12,2,45,9,18,15,36] --60\n",
    "#A list item which is perfectly multiple of 3 and 5\n",
    "\n",
    "def linearSearch4(li):\n",
    "    sum=0\n",
    "    for x in range(len(li)):\n",
    "        if li[x] %3 ==0 and li[x] % 5==0 :\n",
    "            sum += li[x] #sum=sum + li[x]\n",
    "    return sum\n",
    "li= [12,2,45,9,18,15,36]\n",
    "linearSearch4(li)"
   ]
  },
  {
   "cell_type": "code",
   "execution_count": 5,
   "metadata": {},
   "outputs": [
    {
     "name": "stdout",
     "output_type": "stream",
     "text": [
      "1 3 8 15 5 "
     ]
    }
   ],
   "source": [
    "# Function\n",
    "#i/p:list\n",
    "#o/p:formatted o/p\n",
    "#test case\n",
    "#[1,2,3,4,5] --[1,3,8,15,5]\n",
    "#[6,5,2,8,2] --[6,12,40,4,2]\n",
    "\n",
    "#1.print first and last as it is because first number does not have previous and last-\n",
    "#-does not have next number\n",
    "#2. need to multiply the previous and next number\n",
    "\n",
    "def linearSearch5(li):\n",
    "   for x in range(len(li)):\n",
    "       if x ==0 or x == len(li) -1:\n",
    "           print(li[x],end=\" \")\n",
    "       else:\n",
    "           print(li[x-1]*li[x+1],end=\" \")\n",
    "   return\n",
    "li =[1,2,3,4,5]\n",
    "linearSearch5(li)"
   ]
  },
  {
   "cell_type": "code",
   "execution_count": 54,
   "metadata": {},
   "outputs": [
    {
     "name": "stdout",
     "output_type": "stream",
     "text": [
      "1 9 19 22 "
     ]
    }
   ],
   "source": [
    "#Function\n",
    "# i/p: list\n",
    "#o/p : formatted o/p\n",
    "# test cases:\n",
    "#[1,6,9,4,16,19,22] -- 1 9 19 22\n",
    "#1.first and last element print as it is\n",
    "#2.Both sides numbers are even then print it\n",
    "def linearSearch6(li):\n",
    "    for x in range(len(li)):\n",
    "        if x ==0 or x == len(li) -1:\n",
    "            print(li[x],end=\" \")\n",
    "        elif li[x-1]%2==0 and li[x+1]%2==0:\n",
    "            print(li[x],end=\" \")\n",
    "    return\n",
    "li =[1,6,9,4,16,19,22]\n",
    "linearSearch6(li)"
   ]
  },
  {
   "cell_type": "code",
   "execution_count": null,
   "metadata": {},
   "outputs": [],
   "source": [
    "### Number to list\n",
    "#.Input as output\n",
    "#.Expected output will be lost"
   ]
  },
  {
   "cell_type": "code",
   "execution_count": 55,
   "metadata": {},
   "outputs": [
    {
     "data": {
      "text/plain": [
       "[1, 4, 5, 6, 9]"
      ]
     },
     "execution_count": 55,
     "metadata": {},
     "output_type": "execute_result"
    }
   ],
   "source": [
    "# Function for Conversion -Number to list\n",
    "#input --Number\n",
    "#output --list\n",
    "#Test cases:\n",
    "#14569 --[1,4,5,6,9]\n",
    "#1990 --[1,9,9,0]\n",
    "def numberListConversion(n):\n",
    "    li =[]\n",
    "    while n !=0:\n",
    "        r=n%10\n",
    "        li.append(r)\n",
    "        n=n // 10\n",
    "    li.reverse()\n",
    "    return li\n",
    "numberListConversion(14569)"
   ]
  },
  {
   "cell_type": "code",
   "execution_count": 57,
   "metadata": {},
   "outputs": [
    {
     "data": {
      "text/plain": [
       "2"
      ]
     },
     "execution_count": 57,
     "metadata": {},
     "output_type": "execute_result"
    }
   ],
   "source": [
    "# Function to count the occurences of a character in a string\n",
    "# \"Python Programming\", p-->2\n",
    "# \"Python Programming\", m-->2\n",
    "def countCharOccurances(s,c):\n",
    "    cnt=0\n",
    "    for ch in s:\n",
    "        if ch == c:\n",
    "            cnt+=1\n",
    "    return cnt\n",
    "def countCharOccurances1(s,c): #both functions gives the same output\n",
    "    return s.count(c)\n",
    "countCharOccurances(\"Python Programming\",'m')"
   ]
  },
  {
   "cell_type": "code",
   "execution_count": 58,
   "metadata": {},
   "outputs": [
    {
     "data": {
      "text/plain": [
       "[1, 2, 3, 4, 5, 6]"
      ]
     },
     "execution_count": 58,
     "metadata": {},
     "output_type": "execute_result"
    }
   ],
   "source": [
    "#String to list\n",
    "#input will be string\n",
    "#.Expected output will be list\n",
    "# Function to convert string to list\n",
    "# Test case\n",
    "# \"1 2 3 4 5 6\" --[1,2,3,4,5,6]\n",
    "def strintToListConversion(s):\n",
    "    li=s.split()\n",
    "    numberslist =[]\n",
    "    for i in li:\n",
    "        numberslist.append(int(i))\n",
    "    return numberslist\n",
    "s=\"1 2 3 4 5 6\"\n",
    "strintToListConversion(s) #[1,2,3,4,5,6]"
   ]
  },
  {
   "cell_type": "code",
   "execution_count": null,
   "metadata": {},
   "outputs": [],
   "source": [
    "sorting Algorithms\n",
    ".All the sorting algorithms makes the list into\n",
    "ascending order\n",
    "-Bubble sort\n",
    "-Selection sort\n",
    "-Insertion sort"
   ]
  },
  {
   "cell_type": "code",
   "execution_count": null,
   "metadata": {},
   "outputs": [],
   "source": []
  },
  {
   "cell_type": "code",
   "execution_count": null,
   "metadata": {},
   "outputs": [],
   "source": []
  },
  {
   "cell_type": "code",
   "execution_count": null,
   "metadata": {},
   "outputs": [],
   "source": []
  },
  {
   "cell_type": "code",
   "execution_count": null,
   "metadata": {},
   "outputs": [],
   "source": []
  }
 ],
 "metadata": {
  "kernelspec": {
   "display_name": "Python 3",
   "language": "python",
   "name": "python3"
  },
  "language_info": {
   "codemirror_mode": {
    "name": "ipython",
    "version": 3
   },
   "file_extension": ".py",
   "mimetype": "text/x-python",
   "name": "python",
   "nbconvert_exporter": "python",
   "pygments_lexer": "ipython3",
   "version": "3.7.3"
  }
 },
 "nbformat": 4,
 "nbformat_minor": 2
}
