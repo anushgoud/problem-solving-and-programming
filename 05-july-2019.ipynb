{
 "cells": [
  {
   "cell_type": "markdown",
   "metadata": {},
   "source": [
    "# Markdown Basics\n",
    "## Markdown Basics\n",
    "###  Markdown Basics\n",
    "####  Markdown Basics\n",
    "####  Markdown Basics\n",
    "#####  Markdown Basics\n",
    "\n",
    "* **Point1** (Bold)\n",
    "* *Point2* (Itallic)\n",
    "* ***Point3*** (Bold and Itallic)\n",
    "\n",
    "* Normal Text\n",
    "    *Sublist 1\n",
    "    *Sublist 2\n",
    "\n",
    "> 1. Point1\n",
    "> 2. Point2\n",
    "\n",
    "* ***Adding links to Markdowm***\n",
    "\n",
    "* Google SIte --[1]: http://www.google.com\n",
    "* msn         --[2]: http://www.msn.com\n",
    " \n",
    "- []Option1\n",
    "* Google Site -- [Google][1]\n",
    "[1]: http://www.google.com"
   ]
  },
  {
   "cell_type": "markdown",
   "metadata": {},
   "source": [
    "### Python Basics\n",
    "* Python verson 3.7\n",
    "* Functional Programming\n",
    "* Object oriented Programming\n",
    "* Scripting Programming"
   ]
  },
  {
   "cell_type": "code",
   "execution_count": 11,
   "metadata": {},
   "outputs": [
    {
     "name": "stdout",
     "output_type": "stream",
     "text": [
      "Hello Gitam\n",
      "Hyderabad\n"
     ]
    }
   ],
   "source": [
    "print(\"Hello Gitam\")\n",
    "print(\"Hyderabad\")"
   ]
  },
  {
   "cell_type": "code",
   "execution_count": 1,
   "metadata": {
    "scrolled": true
   },
   "outputs": [
    {
     "name": "stdout",
     "output_type": "stream",
     "text": [
      "Hello Gitam\n"
     ]
    }
   ],
   "source": [
    "print(\"Hello Gitam\")"
   ]
  },
  {
   "cell_type": "code",
   "execution_count": 3,
   "metadata": {},
   "outputs": [
    {
     "name": "stdout",
     "output_type": "stream",
     "text": [
      "Hello,gitam|||Hyderabad|||Python Programming\n"
     ]
    }
   ],
   "source": [
    "print(\"Hello,gitam\",end=\"|||\")\n",
    "print(\"Hyderabad\",end=\"|||\")\n",
    "print(\"Python Programming\")"
   ]
  },
  {
   "cell_type": "code",
   "execution_count": 4,
   "metadata": {},
   "outputs": [
    {
     "name": "stdout",
     "output_type": "stream",
     "text": [
      "100\n",
      "20 20 20\n",
      "111 222 333\n"
     ]
    }
   ],
   "source": [
    "n1 = 100 # single variable assignment\n",
    "a = b = c = 20 # Multi Variable Assignment of the same value\n",
    "a1,b1,c1 = 111,222,333 # Multi Varible Assignment with \n",
    "print(n1)\n",
    "print(a,b,c)\n",
    "print(a1,b1,c1)\n"
   ]
  },
  {
   "cell_type": "code",
   "execution_count": 8,
   "metadata": {},
   "outputs": [
    {
     "name": "stdout",
     "output_type": "stream",
     "text": [
      "100\n",
      "python\n",
      "p\n",
      "3.3\n",
      "<class 'int'>\n",
      "<class 'str'>\n",
      "<class 'str'>\n",
      "<class 'str'>\n"
     ]
    }
   ],
   "source": [
    "a = 100;\n",
    "s1 = \"python\"\n",
    "s2 = \"p\"\n",
    "f1 = \"3.3\"\n",
    "print(a);\n",
    "print(s1);\n",
    "print(s2);\n",
    "print(f1);\n",
    "print(type(a));\n",
    "print(type(s1));\n",
    "print(type(s2));\n",
    "print(type(f1));"
   ]
  },
  {
   "cell_type": "code",
   "execution_count": 7,
   "metadata": {},
   "outputs": [
    {
     "name": "stdout",
     "output_type": "stream",
     "text": [
      "<class 'str'>\n",
      "<class 'int'>\n",
      "<class 'int'>\n",
      "1\n"
     ]
    }
   ],
   "source": [
    "s1 = \"100\"\n",
    "print(type(s1))\n",
    "a = int(s1)\n",
    "print(type(a))\n",
    "f = 1.5\n",
    "a1 = int(f)\n",
    "print(type(a1))\n",
    "print(a1)"
   ]
  },
  {
   "cell_type": "code",
   "execution_count": 9,
   "metadata": {},
   "outputs": [
    {
     "name": "stdout",
     "output_type": "stream",
     "text": [
      "4\n"
     ]
    }
   ],
   "source": [
    "# A number is given 1234\n",
    "# Digit count\n",
    "a1 = 1234\n",
    "print(len(str(a1)))"
   ]
  },
  {
   "cell_type": "code",
   "execution_count": 10,
   "metadata": {},
   "outputs": [
    {
     "name": "stdout",
     "output_type": "stream",
     "text": [
      "Enter your nameAnush Goud\n",
      "Anush Goud\n",
      "<class 'str'>\n"
     ]
    }
   ],
   "source": [
    "s1 = input(\"Enter your name\")\n",
    "print(s1)\n",
    "print(type(s1))"
   ]
  },
  {
   "cell_type": "markdown",
   "metadata": {},
   "source": [
    "# Relation Operation\n",
    "- ==\n",
    "- !=\n",
    "- Greater(>)\n",
    "- Less than(<)\n",
    "- Less than or equal to(<=)\n",
    "- Great>="
   ]
  },
  {
   "cell_type": "code",
   "execution_count": null,
   "metadata": {},
   "outputs": [],
   "source": []
  },
  {
   "cell_type": "code",
   "execution_count": null,
   "metadata": {},
   "outputs": [],
   "source": []
  }
 ],
 "metadata": {
  "kernelspec": {
   "display_name": "Python 3",
   "language": "python",
   "name": "python3"
  },
  "language_info": {
   "codemirror_mode": {
    "name": "ipython",
    "version": 3
   },
   "file_extension": ".py",
   "mimetype": "text/x-python",
   "name": "python",
   "nbconvert_exporter": "python",
   "pygments_lexer": "ipython3",
   "version": "3.7.3"
  }
 },
 "nbformat": 4,
 "nbformat_minor": 2
}
